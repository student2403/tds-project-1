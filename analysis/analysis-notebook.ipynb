{
 "cells": [
  {
   "cell_type": "code",
   "execution_count": 1,
   "id": "7afedd2d",
   "metadata": {},
   "outputs": [],
   "source": [
    "import pandas as pd\n",
    "\n",
    "users_df = pd.read_csv('../users.csv')\n",
    "repos_df = pd.read_csv('../repositories.csv')\n"
   ]
  },
  {
   "cell_type": "code",
   "execution_count": 2,
   "id": "dbbccbce",
   "metadata": {},
   "outputs": [
    {
     "data": {
      "text/plain": [
       "['ValentineFernandes',\n",
       " 'kovidgoyal',\n",
       " 'slidenerd',\n",
       " 'aryashah2k',\n",
       " 'coding-parrot']"
      ]
     },
     "execution_count": 2,
     "metadata": {},
     "output_type": "execute_result"
    }
   ],
   "source": [
    "top_5_followers = users_df.sort_values('followers', ascending=False).head(5)['login'].tolist()\n",
    "top_5_followers"
   ]
  },
  {
   "cell_type": "code",
   "execution_count": 3,
   "id": "0767f7cd",
   "metadata": {},
   "outputs": [
    {
     "data": {
      "text/plain": [
       "597            ivank\n",
       "461    sandeepshetty\n",
       "707              svs\n",
       "312     nitinhayaran\n",
       "649          nischal\n",
       "Name: login, dtype: object"
      ]
     },
     "execution_count": 3,
     "metadata": {},
     "output_type": "execute_result"
    }
   ],
   "source": [
    "earliest_users = users_df.sort_values('created_at', ascending=True).head(5)['login']\n",
    "earliest_users"
   ]
  },
  {
   "cell_type": "code",
   "execution_count": 4,
   "id": "daa59d1d",
   "metadata": {},
   "outputs": [
    {
     "data": {
      "text/plain": [
       "['MIT License', 'Apache License 2.0', 'Other']"
      ]
     },
     "execution_count": 4,
     "metadata": {},
     "output_type": "execute_result"
    }
   ],
   "source": [
    "top_licenses = repos_df['license_name'].dropna().value_counts().head(3).index.tolist()\n",
    "top_licenses"
   ]
  },
  {
   "cell_type": "code",
   "execution_count": 5,
   "id": "bf12b947",
   "metadata": {},
   "outputs": [
    {
     "data": {
      "text/plain": [
       "'MASAI SCHOOL'"
      ]
     },
     "execution_count": 5,
     "metadata": {},
     "output_type": "execute_result"
    }
   ],
   "source": [
    "users_df['company'] = users_df['company'].str.strip().str.upper().str.lstrip('@')\n",
    "most_common_company = users_df['company'].value_counts().idxmax()\n",
    "most_common_company"
   ]
  },
  {
   "cell_type": "code",
   "execution_count": 6,
   "id": "febeb753",
   "metadata": {},
   "outputs": [
    {
     "data": {
      "text/plain": [
       "'JavaScript'"
      ]
     },
     "execution_count": 6,
     "metadata": {},
     "output_type": "execute_result"
    }
   ],
   "source": [
    "most_popular_language = repos_df['language'].value_counts().idxmax()\n",
    "most_popular_language"
   ]
  },
  {
   "cell_type": "code",
   "execution_count": 7,
   "id": "44d94268",
   "metadata": {},
   "outputs": [
    {
     "data": {
      "text/plain": [
       "'HTML'"
      ]
     },
     "execution_count": 7,
     "metadata": {},
     "output_type": "execute_result"
    }
   ],
   "source": [
    "post_2020_users = users_df[users_df['created_at'] > '2020-01-01']\n",
    "post_2020_repos = repos_df[repos_df['login'].isin(post_2020_users['login'])]\n",
    "second_most_popular_language = post_2020_repos['language'].value_counts().nlargest(2).index[-1]\n",
    "second_most_popular_language"
   ]
  },
  {
   "cell_type": "code",
   "execution_count": 8,
   "id": "0fb1d5e0",
   "metadata": {},
   "outputs": [
    {
     "data": {
      "text/plain": [
       "'TSQL'"
      ]
     },
     "execution_count": 8,
     "metadata": {},
     "output_type": "execute_result"
    }
   ],
   "source": [
    "language_avg_stars = repos_df.groupby('language')['stargazers_count'].mean().idxmax()\n",
    "language_avg_stars"
   ]
  },
  {
   "cell_type": "code",
   "execution_count": 9,
   "id": "99106134",
   "metadata": {},
   "outputs": [
    {
     "data": {
      "text/plain": [
       "['kovidgoyal', 'coding-parrot', 'gkcs', 'slidenerd', 'dmalvia']"
      ]
     },
     "execution_count": 9,
     "metadata": {},
     "output_type": "execute_result"
    }
   ],
   "source": [
    "users_df['leader_strength'] = users_df['followers'] / (1 + users_df['following'])\n",
    "top_5_leaders = users_df.sort_values('leader_strength', ascending=False).head(5)['login'].tolist()\n",
    "top_5_leaders"
   ]
  },
  {
   "cell_type": "code",
   "execution_count": 10,
   "id": "a9de1da2",
   "metadata": {},
   "outputs": [
    {
     "data": {
      "text/plain": [
       "0.03473876681266825"
      ]
     },
     "execution_count": 10,
     "metadata": {},
     "output_type": "execute_result"
    }
   ],
   "source": [
    "followers_repos_corr = users_df['followers'].corr(users_df['public_repos'])\n",
    "followers_repos_corr "
   ]
  },
  {
   "cell_type": "code",
   "execution_count": 11,
   "id": "4584a14d",
   "metadata": {},
   "outputs": [
    {
     "data": {
      "text/plain": [
       "0.1014452189397404"
      ]
     },
     "execution_count": 11,
     "metadata": {},
     "output_type": "execute_result"
    }
   ],
   "source": [
    "from sklearn.linear_model import LinearRegression\n",
    "\n",
    "model = LinearRegression()\n",
    "model.fit(users_df[['public_repos']], users_df['followers'])\n",
    "followers_per_repo = model.coef_[0]\n",
    "followers_per_repo"
   ]
  },
  {
   "cell_type": "code",
   "execution_count": 12,
   "id": "39866cdb",
   "metadata": {},
   "outputs": [
    {
     "data": {
      "text/plain": [
       "0.16207650017644518"
      ]
     },
     "execution_count": 12,
     "metadata": {},
     "output_type": "execute_result"
    }
   ],
   "source": [
    "projects_wiki_corr = repos_df['has_projects'].corr(repos_df['has_wiki'])\n",
    "projects_wiki_corr"
   ]
  },
  {
   "cell_type": "code",
   "execution_count": 13,
   "id": "b7a64ead",
   "metadata": {},
   "outputs": [
    {
     "data": {
      "text/plain": [
       "nan"
      ]
     },
     "execution_count": 13,
     "metadata": {},
     "output_type": "execute_result"
    }
   ],
   "source": [
    "avg_following_hireable = users_df[users_df['hireable'] == True]['following'].mean()\n",
    "avg_following_non_hireable = users_df[users_df['hireable'] == False]['following'].mean()\n",
    "following_diff = avg_following_hireable - avg_following_non_hireable\n",
    "following_diff"
   ]
  },
  {
   "cell_type": "code",
   "execution_count": 14,
   "id": "d8bbd72a",
   "metadata": {},
   "outputs": [
    {
     "name": "stdout",
     "output_type": "stream",
     "text": [
      "Regression slope of followers on bio length: -0.106\n"
     ]
    }
   ],
   "source": [
    "import pandas as pd\n",
    "from sklearn.linear_model import LinearRegression\n",
    "\n",
    "# Load the users data\n",
    "users_df = pd.read_csv('../users.csv')\n",
    "\n",
    "# Calculate the length of bios\n",
    "users_df['bio_length'] = users_df['bio'].dropna().apply(len)\n",
    "\n",
    "# Filter out users without bios\n",
    "filtered_df = users_df[users_df['bio_length'].notna()]\n",
    "\n",
    "# Prepare the data for regression\n",
    "X = filtered_df[['bio_length']]\n",
    "y = filtered_df['followers']\n",
    "\n",
    "# Perform linear regression\n",
    "model = LinearRegression()\n",
    "model.fit(X, y)\n",
    "\n",
    "# Get the regression slope\n",
    "regression_slope = model.coef_[0]\n",
    "\n",
    "# Output the result\n",
    "print(f\"Regression slope of followers on bio length: {regression_slope:.3f}\")\n"
   ]
  },
  {
   "cell_type": "code",
   "execution_count": 15,
   "id": "074bf357",
   "metadata": {},
   "outputs": [
    {
     "data": {
      "text/plain": [
       "['Kushal334', 'alokproc', 'patilswapnilv', 'rajeshpillai', 'deadcoder0904']"
      ]
     },
     "execution_count": 15,
     "metadata": {},
     "output_type": "execute_result"
    }
   ],
   "source": [
    "repos_df['created_at'] = pd.to_datetime(repos_df['created_at'])\n",
    "repos_df['is_weekend'] = repos_df['created_at'].dt.weekday >= 5\n",
    "weekend_repos = repos_df[repos_df['is_weekend']]\n",
    "top_5_weekend_users = weekend_repos['login'].value_counts().head(5).index.tolist()\n",
    "top_5_weekend_users"
   ]
  },
  {
   "cell_type": "code",
   "execution_count": 16,
   "id": "6b2e7b18",
   "metadata": {},
   "outputs": [
    {
     "name": "stdout",
     "output_type": "stream",
     "text": [
      "Difference in email sharing: 0.595\n"
     ]
    }
   ],
   "source": [
    "import pandas as pd\n",
    "\n",
    "# Load the users data\n",
    "users_df = pd.read_csv('../users.csv')\n",
    "\n",
    "# Count users with emails when hireable = True\n",
    "hireable_users = users_df[users_df['hireable'] == True]\n",
    "hireable_with_email = hireable_users['email'].notna().sum()\n",
    "hireable_fraction = hireable_with_email / len(hireable_users) if len(hireable_users) > 0 else 0\n",
    "\n",
    "# Count users with emails when hireable = False\n",
    "non_hireable_users = users_df[users_df['hireable'] == False]\n",
    "non_hireable_with_email = non_hireable_users['email'].notna().sum()\n",
    "non_hireable_fraction = non_hireable_with_email / len(non_hireable_users) if len(non_hireable_users) > 0 else 0\n",
    "\n",
    "# Calculate the difference\n",
    "email_difference = hireable_fraction - non_hireable_fraction\n",
    "\n",
    "# Output the result\n",
    "print(f\"Difference in email sharing: {email_difference:.3f}\")\n"
   ]
  },
  {
   "cell_type": "code",
   "execution_count": 17,
   "id": "a1c8f400",
   "metadata": {},
   "outputs": [
    {
     "data": {
      "text/plain": [
       "['Singh']"
      ]
     },
     "execution_count": 17,
     "metadata": {},
     "output_type": "execute_result"
    }
   ],
   "source": [
    "users_df['surname'] = users_df['name'].dropna().apply(lambda x: x.strip().split()[-1])\n",
    "most_common_surname = users_df['surname'].value_counts().nlargest(1).index.tolist()\n",
    "most_common_surname"
   ]
  }
 ],
 "metadata": {
  "kernelspec": {
   "display_name": "Python 3 (ipykernel)",
   "language": "python",
   "name": "python3"
  },
  "language_info": {
   "codemirror_mode": {
    "name": "ipython",
    "version": 3
   },
   "file_extension": ".py",
   "mimetype": "text/x-python",
   "name": "python",
   "nbconvert_exporter": "python",
   "pygments_lexer": "ipython3",
   "version": "3.11.5"
  }
 },
 "nbformat": 4,
 "nbformat_minor": 5
}
